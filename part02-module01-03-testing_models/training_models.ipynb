{
  "nbformat": 4,
  "nbformat_minor": 0,
  "metadata": {
    "colab": {
      "name": "training_models.ipynb",
      "version": "0.3.2",
      "provenance": []
    },
    "kernelspec": {
      "name": "python3",
      "display_name": "Python 3"
    }
  },
  "cells": [
    {
      "metadata": {
        "id": "yL8hb5DG-MQB",
        "colab_type": "code",
        "colab": {}
      },
      "cell_type": "code",
      "source": [
        "# Import statements \n",
        "from sklearn.tree import DecisionTreeClassifier\n",
        "from sklearn.metrics import accuracy_score\n",
        "import pandas as pd\n",
        "import numpy as np\n",
        "import matplotlib.pyplot as plt\n",
        "\n",
        "# Import the train test split\n",
        "from sklearn.model_selection import train_test_split\n",
        "\n",
        "# Import the algs\n",
        "from sklearn.tree import DecisionTreeClassifier\n",
        "\n",
        "# Read in the data.\n",
        "data = np.asarray(pd.read_csv('data.csv', header=None))\n",
        "# Assign the features to the variable X, and the labels to the variable y. \n",
        "X = data[:,0:2]\n",
        "y = data[:,2]\n"
      ],
      "execution_count": 0,
      "outputs": []
    },
    {
      "metadata": {
        "id": "8UqkHyeHAfy8",
        "colab_type": "code",
        "colab": {
          "base_uri": "https://localhost:8080/",
          "height": 351
        },
        "outputId": "c4f5e48e-d75d-4c98-feab-8592989b2fcd"
      },
      "cell_type": "code",
      "source": [
        "#Used to plot data in csv\n",
        "def plot_points(X,y):\n",
        "  plt.scatter(X[np.argwhere(y==0).flatten(),0], X[np.argwhere(y==0).flatten(),1],s = 50, color = 'blue', edgecolor = 'k')\n",
        "  plt.scatter(X[np.argwhere(y==1).flatten(),0], X[np.argwhere(y==1).flatten(),1],s = 50, color = 'red', edgecolor = 'k')\n",
        "\n",
        "  plt.xlim(0,1)\n",
        "  plt.ylim(0,1)\n",
        "  plt.grid(False)\n",
        "  plt.tick_params(\n",
        "      axis='x',\n",
        "      which='both',\n",
        "      bottom=False,\n",
        "      top=False)\n",
        "  plt.show()\n",
        "  \n",
        "plot_points(X,y)"
      ],
      "execution_count": 13,
      "outputs": [
        {
          "output_type": "display_data",
          "data": {
            "image/png": "[encoded data removed]",
            "text/plain": [
              "<Figure size 576x396 with 1 Axes>"
            ]
          },
          "metadata": {
            "tags": []
          }
        }
      ]
    },
    {
      "metadata": {
        "id": "kzriIl37_13_",
        "colab_type": "code",
        "colab": {
          "base_uri": "https://localhost:8080/",
          "height": 118
        },
        "outputId": "2d0bd6bd-7fb8-44b8-95cc-d21f67a65998"
      },
      "cell_type": "code",
      "source": [
        "# Use train test split to split your data \n",
        "# Use a test size of 25% and a random state of 42\n",
        "X_train, X_test, y_train, y_test = train_test_split(X, y, test_size=0.25, random_state=42)\n",
        "\n",
        "# TODO: Create the decision tree model and assign it to the variable model.\n",
        "model = DecisionTreeClassifier()\n",
        "model.fit(X_train,y_train)"
      ],
      "execution_count": 32,
      "outputs": [
        {
          "output_type": "execute_result",
          "data": {
            "text/plain": [
              "DecisionTreeClassifier(class_weight=None, criterion='gini', max_depth=None,\n",
              "            max_features=None, max_leaf_nodes=None,\n",
              "            min_impurity_decrease=0.0, min_impurity_split=None,\n",
              "            min_samples_leaf=1, min_samples_split=2,\n",
              "            min_weight_fraction_leaf=0.0, presort=False, random_state=None,\n",
              "            splitter='best')"
            ]
          },
          "metadata": {
            "tags": []
          },
          "execution_count": 32
        }
      ]
    },
    {
      "metadata": {
        "id": "P80e6K9wA3kB",
        "colab_type": "code",
        "colab": {
          "base_uri": "https://localhost:8080/",
          "height": 351
        },
        "outputId": "0827b499-dab6-45ec-fbb5-2f6021255f87"
      },
      "cell_type": "code",
      "source": [
        "#Used to plot the resulting model\n",
        "def plot_model(X, y, clf):\n",
        "    plt.scatter(X[np.argwhere(y==0).flatten(),0],X[np.argwhere(y==0).flatten(),1],s = 50, color = 'blue', edgecolor = 'k')\n",
        "    plt.scatter(X[np.argwhere(y==1).flatten(),0],X[np.argwhere(y==1).flatten(),1],s = 50, color = 'red', edgecolor = 'k')\n",
        "\n",
        "    plt.xlim(0,1)\n",
        "    plt.ylim(0,1)\n",
        "    plt.grid(False)\n",
        "    plt.tick_params(\n",
        "        axis='x',\n",
        "        which=False,\n",
        "        bottom=False,\n",
        "        top=False)\n",
        "\n",
        "    r = np.linspace(-2.1,2.1,300)\n",
        "    s,t = np.meshgrid(r,r)\n",
        "    s = np.reshape(s,(np.size(s),1))\n",
        "    t = np.reshape(t,(np.size(t),1))\n",
        "    h = np.concatenate((s,t),1)\n",
        "\n",
        "    z = clf.predict(h)\n",
        "\n",
        "    s = s.reshape((np.size(r),np.size(r)))\n",
        "    t = t.reshape((np.size(r),np.size(r)))\n",
        "    z = z.reshape((np.size(r),np.size(r)))\n",
        "\n",
        "    plt.contourf(s,t,z,colors = ['blue','red'],alpha = 0.2,levels = range(-1,2))\n",
        "    if len(np.unique(z)) > 1:\n",
        "        plt.contour(s,t,z,colors = 'k', linewidths = 2)\n",
        "    plt.show()\n",
        " \n",
        "plot_model(X_train,y_train,model)"
      ],
      "execution_count": 33,
      "outputs": [
        {
          "output_type": "display_data",
          "data": {
            "image/png": "[encoded data removed]",
            "text/plain": [
              "<Figure size 576x396 with 1 Axes>"
            ]
          },
          "metadata": {
            "tags": []
          }
        }
      ]
    },
    {
      "metadata": {
        "id": "E6Ju9kKy-ilZ",
        "colab_type": "code",
        "colab": {
          "base_uri": "https://localhost:8080/",
          "height": 50
        },
        "outputId": "f21e27f9-b0ea-45dc-ad2e-29731b72b9ac"
      },
      "cell_type": "code",
      "source": [
        "# TODO: Make predictions on the test data\n",
        "y_pred = model.predict(X_test)\n",
        "print(y_pred)\n",
        "print(y_test)"
      ],
      "execution_count": 34,
      "outputs": [
        {
          "output_type": "stream",
          "text": [
            "[1. 1. 1. 1. 1. 1. 1. 1. 0. 0. 1. 0. 0. 0. 0. 0. 0. 1. 1. 1. 1. 1. 0. 1.]\n",
            "[1. 1. 1. 1. 1. 1. 1. 1. 0. 0. 1. 0. 0. 0. 0. 0. 0. 0. 1. 1. 1. 1. 0. 1.]\n"
          ],
          "name": "stdout"
        }
      ]
    },
    {
      "metadata": {
        "id": "dN3oOirUBJmE",
        "colab_type": "code",
        "colab": {
          "base_uri": "https://localhost:8080/",
          "height": 34
        },
        "outputId": "f00a87c0-f36c-41e3-c3d3-4cd04f252a5b"
      },
      "cell_type": "code",
      "source": [
        "# TODO: Calculate the accuracy and assign it to the variable acc. on the test data\n",
        "acc = accuracy_score(y_test, y_pred)\n",
        "print(acc)"
      ],
      "execution_count": 35,
      "outputs": [
        {
          "output_type": "stream",
          "text": [
            "0.9583333333333334\n"
          ],
          "name": "stdout"
        }
      ]
    },
    {
      "metadata": {
        "id": "NxzljghFBvGD",
        "colab_type": "code",
        "colab": {}
      },
      "cell_type": "code",
      "source": [
        ""
      ],
      "execution_count": 0,
      "outputs": []
    }
  ]
}